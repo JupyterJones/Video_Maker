{
 "cells": [
  {
   "cell_type": "markdown",
   "id": "5ed19ea3",
   "metadata": {},
   "source": [
    "# Copy all the code_cells from *.ipynb to a file HH500ALLcode.txt"
   ]
  },
  {
   "cell_type": "code",
   "execution_count": null,
   "id": "a0c175de",
   "metadata": {},
   "outputs": [],
   "source": [
    "import os\n",
    "import nbformat\n",
    "import logging\n",
    "\n",
    "logging.basicConfig(level=logging.INFO, format='%(asctime)s - %(levelname)s - %(message)s')\n",
    "\n",
    "def read_ipynb_file(file_path):\n",
    "    with open(file_path, 'r', encoding='utf-8') as file:\n",
    "        try:\n",
    "            notebook = nbformat.read(file, as_version=4)\n",
    "            code_content = \"\"\n",
    "            for cell in notebook['cells']:\n",
    "                if cell['cell_type'] == 'code':\n",
    "                    code_content += cell['source'] + '\\n\\n'\n",
    "            return code_content\n",
    "        except Exception as e:\n",
    "            logging.error(f\"Error reading {file_path}: {e}\")\n",
    "            return None\n",
    "\n",
    "def search_and_extract_code(directory):\n",
    "    extracted_code = []\n",
    "\n",
    "    for root, _, files in os.walk(directory):\n",
    "        for file_name in files:\n",
    "            if file_name.endswith(\".ipynb\"):\n",
    "                file_path = os.path.join(root, file_name)\n",
    "                logging.info(f\"Processing file: {file_path}\")\n",
    "                code_content = read_ipynb_file(file_path)\n",
    "\n",
    "                if code_content is not None:\n",
    "                    extracted_code.append({\n",
    "                        'file_path': file_path,\n",
    "                        'code_content': code_content\n",
    "                    })\n",
    "                    logging.info(f\"Code Content found for {file_path}\")\n",
    "\n",
    "    return extracted_code\n",
    "\n",
    "def write_to_all_code_file(extracted_code, output_file='/home/jack/Desktop/FlaskAppArchitect_Flask_App_Creator/HH500ALLcode.txt'):\n",
    "    with open(output_file, 'a', encoding='utf-8') as output:\n",
    "        for entry in extracted_code:\n",
    "            output.write(f\"File: {entry['file_path']}\\n\")\n",
    "            output.write(f\"Code Content:\\n{entry['code_content']}\\n\")\n",
    "            output.write(\"=\" * 50 + \"\\n\")\n",
    "\n",
    "if __name__ == \"__main__\":\n",
    "    # directory_path = \"/home/jack/Desktop/FlaskAppArchitect_Flask_App_Creator\" \n",
    "    #directory_path = \"/home/jack/Desktop/HDD500\"  # Change this to the directory path you want to search\n",
    "    directory_path = \"/home/jack/Desktop\"  \n",
    "    result = search_and_extract_code(directory_path)\n",
    "\n",
    "    if result:\n",
    "        write_to_all_code_file(result)\n",
    "        logging.info(\"All code content has been written to ALLcode.txt\")\n",
    "    else:\n",
    "        logging.warning(f\"No *.ipynb files found in or under the specified directory: {directory_path}\")\n"
   ]
  },
  {
   "cell_type": "markdown",
   "id": "1836ccdf",
   "metadata": {},
   "source": [
    "# Search ALLcode.txt for a term \n",
    "## then print the notebook name and the notobook code where it was found"
   ]
  },
  {
   "cell_type": "code",
   "execution_count": null,
   "id": "e597fbc0",
   "metadata": {},
   "outputs": [],
   "source": [
    "import re\n",
    "import logging\n",
    "\n",
    "logging.basicConfig(level=logging.INFO, format='%(asctime)s - %(levelname)s - %(message)s')\n",
    "\n",
    "def search_and_print_matching_notebooks(all_code_file, search_terms):\n",
    "    with open(all_code_file, 'r', encoding='utf-8') as file:\n",
    "        content = file.read()\n",
    "\n",
    "    notebook_sections = re.split(r\"----------(.+?)----------\", content)\n",
    "    notebook_sections = [section.strip() for section in notebook_sections if section.strip()]\n",
    "\n",
    "    for i in range(0, len(notebook_sections), 2):\n",
    "        file_name = notebook_sections[i]\n",
    "        code_content = notebook_sections[i + 1]\n",
    "\n",
    "        # Search for terms in code content\n",
    "        if any(term.lower() in code_content.lower() for term in search_terms):\n",
    "            logging.info(f\"----------{file_name}----------\")\n",
    "            logging.info(f\"Code Content:\\n{code_content}\")\n",
    "            logging.info(\"=\" * 50)\n",
    "\n",
    "if __name__ == \"__main__\":\n",
    "    all_code_file_path = \"/home/jack/Desktop/FlaskAppArchitect_Flask_App_Creator/HH500ALLcode.txt\"  # Change this to the path of your ALLcode.txt file\n",
    "    search_terms = input(\"Enter search terms (comma-separated): \").split(',')\n",
    "\n",
    "    search_and_print_matching_notebooks(all_code_file_path, search_terms)\n"
   ]
  },
  {
   "cell_type": "markdown",
   "id": "39646cd2",
   "metadata": {},
   "source": [
    "# Search the ChatGPT conversations.json"
   ]
  },
  {
   "cell_type": "code",
   "execution_count": null,
   "id": "61c6e672",
   "metadata": {},
   "outputs": [],
   "source": [
    "file_path = 'static/csv/conversations.json'\n",
    "cnt = 0\n",
    "search_term=input(\"search_term: \")\n",
    "with open(file_path, 'r', encoding='utf-8') as file:\n",
    "    data = file.read().replace(\"title\",\"XXXXXXX<title\").replace(\"\\\\n\",\"\\n\")\n",
    "    Data = data.split(\"XXXXXXX\")\n",
    "    for line in Data:\n",
    "        if search_term in line:\n",
    "            cnt = cnt + 1\n",
    "            if cnt > 4:\n",
    "                break\n",
    "            print(\"\\n------------------\\n\",line)\n",
    " "
   ]
  },
  {
   "cell_type": "code",
   "execution_count": null,
   "id": "10976328",
   "metadata": {},
   "outputs": [],
   "source": [
    "#/home/jack/Desktop/FlaskAppArchitect_Flask_App_Creator/static/csv/conversations.json\n",
    "!pwd"
   ]
  },
  {
   "cell_type": "code",
   "execution_count": null,
   "id": "d7f01378",
   "metadata": {},
   "outputs": [],
   "source": [
    "import json\n",
    "\n",
    "def search_term_in_conversations(file_path, search_term):\n",
    "    with open(file_path, 'r', encoding='utf-8') as file:\n",
    "        conversations = json.load(file)\n",
    "\n",
    "    matching_messages = []\n",
    "\n",
    "    for conversation in conversations:\n",
    "        for message in conversation:\n",
    "            try:\n",
    "                if isinstance(message, dict) and 'content' in message:\n",
    "                    if search_term.lower() in message['content'].lower():\n",
    "                        matching_messages.append(message)\n",
    "            except Exception as e:\n",
    "                print(f\"Error processing message: {message}, Error: {e}\")\n",
    "\n",
    "    return matching_messages\n",
    "\n",
    "if __name__ == \"__main__\":\n",
    "    conversations_file_path = 'static/csv/conversations.json'  # Replace with the actual path to your conversations.json file\n",
    "    term_to_search = input(\"Enter the term to search for: \")\n",
    "\n",
    "    matching_messages = search_term_in_conversations(conversations_file_path, term_to_search)\n",
    "\n",
    "    if matching_messages:\n",
    "        print(f\"Found {len(matching_messages)} matching messages:\")\n",
    "        for message in matching_messages:\n",
    "            print(f\"{message.get('role', 'Unknown Role')}: {message.get('content', 'Unknown Content')}\")\n",
    "    else:\n",
    "        print(\"No matching messages found.\")\n"
   ]
  },
  {
   "cell_type": "markdown",
   "id": "4293a99d",
   "metadata": {},
   "source": []
  },
  {
   "cell_type": "code",
   "execution_count": null,
   "id": "70c7a2cb",
   "metadata": {},
   "outputs": [],
   "source": [
    "file_path = 'static/csv/conversations.json'\n",
    "cnt =0\n",
    "with open(file_path, 'r', encoding='utf-8') as file:\n",
    "    data = file.split(\"title\")\n",
    "    for line in data:\n",
    "        cnt=cnt+1\n",
    "        if cnt >2:break\n",
    "        print(line)    "
   ]
  },
  {
   "cell_type": "code",
   "execution_count": null,
   "id": "b5233055",
   "metadata": {
    "scrolled": true
   },
   "outputs": [],
   "source": [
    "file_path = 'static/csv/conversations.json'\n",
    "cnt = 0\n",
    "\n",
    "with open(file_path, 'r', encoding='utf-8') as file:\n",
    "    data = file.read().split(\"title\")\n",
    "    for line in data:\n",
    "        cnt = cnt + 1\n",
    "        if cnt > 5:\n",
    "            break\n",
    "        print(line,\"\\n------------------\\n\")\n"
   ]
  },
  {
   "cell_type": "code",
   "execution_count": null,
   "id": "7c3f0407",
   "metadata": {},
   "outputs": [],
   "source": []
  },
  {
   "cell_type": "code",
   "execution_count": null,
   "id": "e469a640",
   "metadata": {},
   "outputs": [],
   "source": [
    "file_path = 'static/csv/conversations.json'\n",
    "cnt = 0\n",
    "search_term = input(\"search_term: \")\n",
    "\n",
    "with open(file_path, 'r', encoding='utf-8') as file:\n",
    "    data = file.read().replace(\"title\", \"XXXXXXX<title\").replace(\"\\\\n\", \"\\n\")\n",
    "    Data = data.split(\"XXXXXXX\")\n",
    "\n",
    "    for line in Data:\n",
    "        cnt = cnt + 1\n",
    "        if cnt > 2:\n",
    "            break\n",
    "        print(line, \"\\n------------------\\n\")\n",
    "\n",
    "    # Check if the search term is in the content of each part\n",
    "    matching_parts = [part for part in Data if search_term in part]\n",
    "\n",
    "    if matching_parts:\n",
    "        print(f\"\\nFound {len(matching_parts)} parts containing the search term:\")\n",
    "        for part in matching_parts:\n",
    "            print(part)\n",
    "    else:\n",
    "        print(\"No parts containing the search term found.\")\n"
   ]
  },
  {
   "cell_type": "code",
   "execution_count": null,
   "id": "1bcb69f6",
   "metadata": {},
   "outputs": [],
   "source": []
  }
 ],
 "metadata": {
  "kernelspec": {
   "display_name": "cloned-base",
   "language": "python",
   "name": "cloned-base"
  },
  "language_info": {
   "codemirror_mode": {
    "name": "ipython",
    "version": 3
   },
   "file_extension": ".py",
   "mimetype": "text/x-python",
   "name": "python",
   "nbconvert_exporter": "python",
   "pygments_lexer": "ipython3",
   "version": "3.9.12"
  }
 },
 "nbformat": 4,
 "nbformat_minor": 5
}
